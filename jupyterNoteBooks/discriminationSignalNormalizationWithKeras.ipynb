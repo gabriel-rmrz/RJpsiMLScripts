{
 "cells": [
  {
   "cell_type": "markdown",
   "metadata": {},
   "source": [
    "Importing basic libraries"
   ]
  },
  {
   "cell_type": "code",
   "execution_count": 1,
   "metadata": {},
   "outputs": [],
   "source": [
    "import os\n",
    "import numpy as np\n",
    "from sklearn.model_selection import train_test_split\n",
    "from matplotlib import pyplot as plt"
   ]
  },
  {
   "cell_type": "markdown",
   "metadata": {},
   "source": [
    "Loading ML dedicated libraries"
   ]
  },
  {
   "cell_type": "code",
   "execution_count": 2,
   "metadata": {},
   "outputs": [
    {
     "name": "stderr",
     "output_type": "stream",
     "text": [
      "Using TensorFlow backend.\n"
     ]
    }
   ],
   "source": [
    "from keras.models import Model\n",
    "from keras.layers import Dense, Input, Dropout, Conv1D, BatchNormalization\n"
   ]
  },
  {
   "cell_type": "code",
   "execution_count": 3,
   "metadata": {},
   "outputs": [],
   "source": [
    "from keras.callbacks import EarlyStopping, ReduceLROnPlateau, TerminateOnNaN\n"
   ]
  },
  {
   "cell_type": "markdown",
   "metadata": {},
   "source": [
    "Loading the input file and defining the subsamples"
   ]
  },
  {
   "cell_type": "code",
   "execution_count": 4,
   "metadata": {},
   "outputs": [],
   "source": [
    "f = np.load(\"../data/featuresData.npz\")\n",
    "inputData = f[\"arr_0\"]\n",
    "\n",
    "inputData = inputData[:,np.logical_or(inputData[13,:],inputData[14,:])]\n",
    "nn_inputFeatures = inputData[0:10,:]\n",
    "triggerFlags = (inputData[10:13,:]).astype(int) == 1\n",
    "channelFlags = (inputData[13,]).astype(int) == 1\n"
   ]
  },
  {
   "cell_type": "code",
   "execution_count": 5,
   "metadata": {},
   "outputs": [
    {
     "name": "stdout",
     "output_type": "stream",
     "text": [
      "[[False False  True ... False False False]\n",
      " [False False False ... False False False]\n",
      " [False False False ... False False False]]\n",
      "2958\n"
     ]
    }
   ],
   "source": [
    "print(triggerFlags)\n",
    "print(np.sum(triggerFlags[1,triggerFlags[0,:]]))"
   ]
  },
  {
   "cell_type": "markdown",
   "metadata": {},
   "source": [
    "Importing NN libraries"
   ]
  },
  {
   "cell_type": "markdown",
   "metadata": {},
   "source": [
    "Definition of the model"
   ]
  },
  {
   "cell_type": "code",
   "execution_count": 14,
   "metadata": {},
   "outputs": [],
   "source": [
    "batch_size = 500\n",
    "n_epochs = 100\n",
    "dropoutRate = 0.1\n",
    "\n",
    "inputLayer = Input(shape=(10,))\n",
    "x = BatchNormalization()(inputLayer)\n",
    "x = Dense(30, activation = 'relu')(x)\n",
    "x = Dropout(rate=dropoutRate)(x)\n",
    "x = Dense(30, activation = 'relu')(x)\n",
    "x = Dropout(rate=dropoutRate)(x)\n",
    "x = Dense(30, activation = 'relu')(x)\n",
    "x = Dropout(rate=dropoutRate)(x)\n",
    "x = Dense(10, activation = 'relu')(x)\n",
    "x = Dropout(rate=dropoutRate)(x)\n",
    "outputLayer = Dense(1, activation = 'sigmoid')(x)\n"
   ]
  },
  {
   "cell_type": "code",
   "execution_count": 15,
   "metadata": {},
   "outputs": [
    {
     "name": "stdout",
     "output_type": "stream",
     "text": [
      "Model: \"model_3\"\n",
      "_________________________________________________________________\n",
      "Layer (type)                 Output Shape              Param #   \n",
      "=================================================================\n",
      "input_3 (InputLayer)         (None, 10)                0         \n",
      "_________________________________________________________________\n",
      "batch_normalization_3 (Batch (None, 10)                40        \n",
      "_________________________________________________________________\n",
      "dense_11 (Dense)             (None, 30)                330       \n",
      "_________________________________________________________________\n",
      "dropout_9 (Dropout)          (None, 30)                0         \n",
      "_________________________________________________________________\n",
      "dense_12 (Dense)             (None, 30)                930       \n",
      "_________________________________________________________________\n",
      "dropout_10 (Dropout)         (None, 30)                0         \n",
      "_________________________________________________________________\n",
      "dense_13 (Dense)             (None, 30)                930       \n",
      "_________________________________________________________________\n",
      "dropout_11 (Dropout)         (None, 30)                0         \n",
      "_________________________________________________________________\n",
      "dense_14 (Dense)             (None, 10)                310       \n",
      "_________________________________________________________________\n",
      "dropout_12 (Dropout)         (None, 10)                0         \n",
      "_________________________________________________________________\n",
      "dense_15 (Dense)             (None, 1)                 11        \n",
      "=================================================================\n",
      "Total params: 2,551\n",
      "Trainable params: 2,531\n",
      "Non-trainable params: 20\n",
      "_________________________________________________________________\n"
     ]
    }
   ],
   "source": [
    "model = Model(inputs = inputLayer, outputs = outputLayer)\n",
    "model.compile(loss='binary_crossentropy', optimizer ='adam', metrics = ['accuracy'])\n",
    "model.summary()\n"
   ]
  },
  {
   "cell_type": "raw",
   "metadata": {},
   "source": [
    "Training the model"
   ]
  },
  {
   "cell_type": "code",
   "execution_count": 16,
   "metadata": {},
   "outputs": [
    {
     "name": "stdout",
     "output_type": "stream",
     "text": [
      "Train on 16814 samples, validate on 7207 samples\n",
      "Epoch 1/100\n",
      "16814/16814 [==============================] - 3s 159us/step - loss: 0.5285 - acc: 0.7669 - val_loss: 0.2054 - val_acc: 0.9999\n",
      "Epoch 2/100\n",
      "16814/16814 [==============================] - 0s 19us/step - loss: 0.3803 - acc: 0.8397 - val_loss: 0.1807 - val_acc: 0.9881\n",
      "Epoch 3/100\n",
      "16814/16814 [==============================] - 0s 21us/step - loss: 0.3614 - acc: 0.8455 - val_loss: 0.1669 - val_acc: 0.9720\n",
      "Epoch 4/100\n",
      "16814/16814 [==============================] - 0s 21us/step - loss: 0.3564 - acc: 0.8473 - val_loss: 0.1663 - val_acc: 0.9679\n",
      "Epoch 5/100\n",
      "16814/16814 [==============================] - 0s 21us/step - loss: 0.3525 - acc: 0.8498 - val_loss: 0.1632 - val_acc: 0.9648\n",
      "Epoch 6/100\n",
      "16814/16814 [==============================] - 0s 21us/step - loss: 0.3524 - acc: 0.8507 - val_loss: 0.1674 - val_acc: 0.9630\n",
      "Epoch 7/100\n",
      "16814/16814 [==============================] - 0s 23us/step - loss: 0.3463 - acc: 0.8529 - val_loss: 0.1678 - val_acc: 0.9566\n",
      "\n",
      "Epoch 00007: ReduceLROnPlateau reducing learning rate to 0.00010000000474974513.\n",
      "Epoch 8/100\n",
      "16814/16814 [==============================] - 0s 22us/step - loss: 0.3470 - acc: 0.8524 - val_loss: 0.1651 - val_acc: 0.9595\n",
      "Epoch 9/100\n",
      "16814/16814 [==============================] - 0s 22us/step - loss: 0.3482 - acc: 0.8520 - val_loss: 0.1636 - val_acc: 0.9603\n",
      "\n",
      "Epoch 00009: ReduceLROnPlateau reducing learning rate to 1.0000000474974514e-05.\n",
      "Epoch 10/100\n",
      "16814/16814 [==============================] - 0s 21us/step - loss: 0.3473 - acc: 0.8521 - val_loss: 0.1636 - val_acc: 0.9605\n",
      "Epoch 11/100\n",
      "16814/16814 [==============================] - 0s 23us/step - loss: 0.3449 - acc: 0.8520 - val_loss: 0.1635 - val_acc: 0.9606\n",
      "\n",
      "Epoch 00011: ReduceLROnPlateau reducing learning rate to 1.0000000656873453e-06.\n",
      "Epoch 12/100\n",
      "16814/16814 [==============================] - 0s 22us/step - loss: 0.3475 - acc: 0.8514 - val_loss: 0.1635 - val_acc: 0.9606\n",
      "Epoch 13/100\n",
      "16814/16814 [==============================] - 0s 25us/step - loss: 0.3443 - acc: 0.8516 - val_loss: 0.1634 - val_acc: 0.9606\n",
      "\n",
      "Epoch 00013: ReduceLROnPlateau reducing learning rate to 1.0000001111620805e-07.\n",
      "Epoch 14/100\n",
      "16814/16814 [==============================] - 0s 24us/step - loss: 0.3467 - acc: 0.8521 - val_loss: 0.1635 - val_acc: 0.9605\n",
      "Epoch 15/100\n",
      "16814/16814 [==============================] - 0s 23us/step - loss: 0.3456 - acc: 0.8517 - val_loss: 0.1636 - val_acc: 0.9606\n",
      "\n",
      "Epoch 00015: ReduceLROnPlateau reducing learning rate to 1.000000082740371e-08.\n",
      "Epoch 00015: early stopping\n"
     ]
    }
   ],
   "source": [
    "history = model.fit(np.transpose(nn_inputFeatures), np.transpose(channelFlags), epochs = n_epochs, batch_size = batch_size, verbose = 1,\n",
    "        validation_split = 0.3, \n",
    "        callbacks = [ \n",
    "        EarlyStopping(monitor='val_loss', patience=10, verbose=1),\n",
    "        ReduceLROnPlateau(monitor='val_loss', factor = 0.1, patience=2, verbose = 1), \n",
    "        TerminateOnNaN()])\n"
   ]
  },
  {
   "cell_type": "markdown",
   "metadata": {},
   "source": [
    "Plot of the training history"
   ]
  },
  {
   "cell_type": "code",
   "execution_count": 17,
   "metadata": {},
   "outputs": [
    {
     "data": {
      "image/png": "[encoded data removed]",
      "text/plain": [
       "<Figure size 432x288 with 1 Axes>"
      ]
     },
     "metadata": {
      "needs_background": "light"
     },
     "output_type": "display_data"
    }
   ],
   "source": [
    "\n",
    "plt.plot(history.history['loss'])\n",
    "plt.plot(history.history['val_loss'])\n",
    "plt.yscale('log')\n",
    "plt.title('model loss')\n",
    "plt.ylabel('loss')\n",
    "plt.xlabel('epoch')\n",
    "plt.legend(['train', 'test'], loc='upper left')\n",
    "plt.show()"
   ]
  },
  {
   "cell_type": "code",
   "execution_count": null,
   "metadata": {},
   "outputs": [],
   "source": []
  },
  {
   "cell_type": "code",
   "execution_count": null,
   "metadata": {},
   "outputs": [],
   "source": []
  }
 ],
 "metadata": {
  "kernelspec": {
   "display_name": "Python 3",
   "language": "python",
   "name": "python3"
  },
  "language_info": {
   "codemirror_mode": {
    "name": "ipython",
    "version": 3
   },
   "file_extension": ".py",
   "mimetype": "text/x-python",
   "name": "python",
   "nbconvert_exporter": "python",
   "pygments_lexer": "ipython3",
   "version": "3.7.6"
  }
 },
 "nbformat": 4,
 "nbformat_minor": 2
}
