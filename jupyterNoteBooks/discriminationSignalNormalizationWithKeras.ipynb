{
 "cells": [
  {
   "cell_type": "markdown",
   "metadata": {},
   "source": [
    "Importing basic libraries"
   ]
  },
  {
   "cell_type": "code",
   "execution_count": 2,
   "metadata": {},
   "outputs": [
    {
     "data": {
      "text/plain": [
       "<Figure size 1200x1200 with 0 Axes>"
      ]
     },
     "execution_count": 2,
     "metadata": {},
     "output_type": "execute_result"
    },
    {
     "data": {
      "text/plain": [
       "<Figure size 1200x1200 with 0 Axes>"
      ]
     },
     "metadata": {},
     "output_type": "display_data"
    }
   ],
   "source": [
    "import os\n",
    "import numpy as np\n",
    "from sklearn.model_selection import train_test_split\n",
    "from matplotlib import pyplot as plt"
   ]
  },
  {
   "cell_type": "markdown",
   "metadata": {},
   "source": [
    "Loading ML dedicated libraries"
   ]
  },
  {
   "cell_type": "code",
   "execution_count": 3,
   "metadata": {},
   "outputs": [
    {
     "name": "stderr",
     "output_type": "stream",
     "text": [
      "Using TensorFlow backend.\n"
     ]
    }
   ],
   "source": [
    "from keras.models import Model\n",
    "from keras.layers import Dense, Input, Dropout, Conv1D, BatchNormalization\n",
    "from keras.callbacks import EarlyStopping, ReduceLROnPlateau, TerminateOnNaN"
   ]
  },
  {
   "cell_type": "markdown",
   "metadata": {},
   "source": [
    "Loading the input file and defining the subsamples"
   ]
  },
  {
   "cell_type": "code",
   "execution_count": 3,
   "metadata": {},
   "outputs": [],
   "source": [
    "f = np.load(\"../data/featuresData.npz\")\n",
    "inputData = f[\"arr_0\"]\n"
   ]
  },
  {
   "cell_type": "code",
   "execution_count": 4,
   "metadata": {},
   "outputs": [
    {
     "name": "stdout",
     "output_type": "stream",
     "text": [
      "(51, 10678)\n",
      "[4.469977  3.4607365 3.6193264 4.0762377 4.79697   3.7272146 4.906417\n",
      " 3.9718556 3.6949456 4.485333 ]\n"
     ]
    }
   ],
   "source": [
    "print(inputData.shape)\n",
    "print(inputData[0,0:10])\n"
   ]
  },
  {
   "cell_type": "code",
   "execution_count": 5,
   "metadata": {},
   "outputs": [],
   "source": [
    "inputData = inputData[:,np.logical_or(inputData[13,:],inputData[14,:])]\n",
    "triggerFlags = (inputData[10:-6,:]).astype(int) == 1\n",
    "channelFlags = (inputData[-2,]).astype(int) == 1\n",
    "nn_inputFeatures_tmp = inputData[0:-6,:]\n",
    "#from scipy.scarse import coo_matrix\n",
    "#nn_inputFeatures_scarse = coo_matrix(nn_inputFeatures)\n",
    "from sklearn.utils import shuffle\n",
    "nn_inputFeatures = shuffle(nn_inputFeatures_tmp, random_state=0)"
   ]
  },
  {
   "cell_type": "code",
   "execution_count": 6,
   "metadata": {},
   "outputs": [
    {
     "name": "stdout",
     "output_type": "stream",
     "text": [
      "[[False False False ... False False False]\n",
      " [False  True  True ... False False False]\n",
      " [False  True  True ... False False False]\n",
      " ...\n",
      " [False False False ... False False False]\n",
      " [False False False ... False False False]\n",
      " [False False False ... False False False]]\n",
      "0\n"
     ]
    }
   ],
   "source": [
    "print(triggerFlags)\n",
    "print(np.sum(triggerFlags[3,triggerFlags[0,:]]))"
   ]
  },
  {
   "cell_type": "markdown",
   "metadata": {},
   "source": [
    "Importing NN libraries"
   ]
  },
  {
   "cell_type": "markdown",
   "metadata": {},
   "source": [
    "Definition of the model"
   ]
  },
  {
   "cell_type": "code",
   "execution_count": 7,
   "metadata": {},
   "outputs": [
    {
     "name": "stdout",
     "output_type": "stream",
     "text": [
      "WARNING:tensorflow:From /home/garamire/Software/anaconda3/envs/ztdl/lib/python3.7/site-packages/tensorflow/python/framework/op_def_library.py:263: colocate_with (from tensorflow.python.framework.ops) is deprecated and will be removed in a future version.\n",
      "Instructions for updating:\n",
      "Colocations handled automatically by placer.\n",
      "WARNING:tensorflow:From /home/garamire/Software/anaconda3/envs/ztdl/lib/python3.7/site-packages/keras/backend/tensorflow_backend.py:3733: calling dropout (from tensorflow.python.ops.nn_ops) with keep_prob is deprecated and will be removed in a future version.\n",
      "Instructions for updating:\n",
      "Please use `rate` instead of `keep_prob`. Rate should be set to `rate = 1 - keep_prob`.\n"
     ]
    }
   ],
   "source": [
    "batch_size = 500\n",
    "n_epochs = 100\n",
    "dropoutRate = 0.2\n",
    "\n",
    "inputLayer = Input(shape=(45,))\n",
    "x = BatchNormalization()(inputLayer)\n",
    "x = Dense(30, activation = 'relu')(x)\n",
    "x = Dropout(rate=dropoutRate)(x)\n",
    "x = Dense(30, activation = 'relu')(x)\n",
    "x = Dropout(rate=dropoutRate)(x)\n",
    "x = Dense(30, activation = 'relu')(x)\n",
    "x = Dropout(rate=dropoutRate)(x)\n",
    "x = Dense(10, activation = 'relu')(x)\n",
    "x = Dropout(rate=dropoutRate)(x)\n",
    "outputLayer = Dense(1, activation = 'sigmoid')(x)\n"
   ]
  },
  {
   "cell_type": "code",
   "execution_count": 8,
   "metadata": {},
   "outputs": [
    {
     "name": "stdout",
     "output_type": "stream",
     "text": [
      "Model: \"model_1\"\n",
      "_________________________________________________________________\n",
      "Layer (type)                 Output Shape              Param #   \n",
      "=================================================================\n",
      "input_1 (InputLayer)         (None, 45)                0         \n",
      "_________________________________________________________________\n",
      "batch_normalization_1 (Batch (None, 45)                180       \n",
      "_________________________________________________________________\n",
      "dense_1 (Dense)              (None, 30)                1380      \n",
      "_________________________________________________________________\n",
      "dropout_1 (Dropout)          (None, 30)                0         \n",
      "_________________________________________________________________\n",
      "dense_2 (Dense)              (None, 30)                930       \n",
      "_________________________________________________________________\n",
      "dropout_2 (Dropout)          (None, 30)                0         \n",
      "_________________________________________________________________\n",
      "dense_3 (Dense)              (None, 30)                930       \n",
      "_________________________________________________________________\n",
      "dropout_3 (Dropout)          (None, 30)                0         \n",
      "_________________________________________________________________\n",
      "dense_4 (Dense)              (None, 10)                310       \n",
      "_________________________________________________________________\n",
      "dropout_4 (Dropout)          (None, 10)                0         \n",
      "_________________________________________________________________\n",
      "dense_5 (Dense)              (None, 1)                 11        \n",
      "=================================================================\n",
      "Total params: 3,741\n",
      "Trainable params: 3,651\n",
      "Non-trainable params: 90\n",
      "_________________________________________________________________\n"
     ]
    }
   ],
   "source": [
    "model = Model(inputs = inputLayer, outputs = outputLayer)\n",
    "model.compile(loss='binary_crossentropy', optimizer ='adam', metrics = ['accuracy'])\n",
    "model.summary()\n"
   ]
  },
  {
   "cell_type": "raw",
   "metadata": {},
   "source": [
    "Training the model"
   ]
  },
  {
   "cell_type": "code",
   "execution_count": 9,
   "metadata": {},
   "outputs": [
    {
     "name": "stdout",
     "output_type": "stream",
     "text": [
      "WARNING:tensorflow:From /home/garamire/Software/anaconda3/envs/ztdl/lib/python3.7/site-packages/tensorflow/python/ops/math_ops.py:3066: to_int32 (from tensorflow.python.ops.math_ops) is deprecated and will be removed in a future version.\n",
      "Instructions for updating:\n",
      "Use tf.cast instead.\n",
      "Train on 7474 samples, validate on 3204 samples\n",
      "Epoch 1/100\n",
      "7474/7474 [==============================] - 2s 323us/step - loss: 0.5687 - acc: 0.7296 - val_loss: 0.3161 - val_acc: 1.0000\n",
      "Epoch 2/100\n",
      "7474/7474 [==============================] - 0s 21us/step - loss: 0.4914 - acc: 0.7997 - val_loss: 0.1973 - val_acc: 1.0000\n",
      "Epoch 3/100\n",
      "7474/7474 [==============================] - 0s 20us/step - loss: 0.4625 - acc: 0.8440 - val_loss: 0.1975 - val_acc: 1.0000\n",
      "Epoch 4/100\n",
      "7474/7474 [==============================] - 0s 20us/step - loss: 0.4401 - acc: 0.8535 - val_loss: 0.1843 - val_acc: 1.0000\n",
      "Epoch 5/100\n",
      "7474/7474 [==============================] - 0s 22us/step - loss: 0.4172 - acc: 0.8550 - val_loss: 0.1637 - val_acc: 1.0000\n",
      "Epoch 6/100\n",
      "7474/7474 [==============================] - 0s 21us/step - loss: 0.4012 - acc: 0.8556 - val_loss: 0.1584 - val_acc: 1.0000\n",
      "Epoch 7/100\n",
      "7474/7474 [==============================] - 0s 22us/step - loss: 0.3944 - acc: 0.8558 - val_loss: 0.1514 - val_acc: 1.0000\n",
      "Epoch 8/100\n",
      "7474/7474 [==============================] - 0s 21us/step - loss: 0.3863 - acc: 0.8558 - val_loss: 0.1522 - val_acc: 1.0000\n",
      "Epoch 9/100\n",
      "7474/7474 [==============================] - 0s 22us/step - loss: 0.3679 - acc: 0.8562 - val_loss: 0.1384 - val_acc: 1.0000\n",
      "Epoch 10/100\n",
      "7474/7474 [==============================] - 0s 23us/step - loss: 0.3639 - acc: 0.8559 - val_loss: 0.1491 - val_acc: 1.0000\n",
      "Epoch 11/100\n",
      "7474/7474 [==============================] - 0s 20us/step - loss: 0.3557 - acc: 0.8560 - val_loss: 0.1356 - val_acc: 1.0000\n",
      "Epoch 12/100\n",
      "7474/7474 [==============================] - 0s 21us/step - loss: 0.3516 - acc: 0.8560 - val_loss: 0.1403 - val_acc: 1.0000\n",
      "Epoch 13/100\n",
      "7474/7474 [==============================] - 0s 22us/step - loss: 0.3473 - acc: 0.8560 - val_loss: 0.1431 - val_acc: 1.0000\n",
      "\n",
      "Epoch 00013: ReduceLROnPlateau reducing learning rate to 0.00010000000474974513.\n",
      "Epoch 14/100\n",
      "7474/7474 [==============================] - 0s 21us/step - loss: 0.3495 - acc: 0.8560 - val_loss: 0.1435 - val_acc: 1.0000\n",
      "Epoch 15/100\n",
      "7474/7474 [==============================] - 0s 19us/step - loss: 0.3478 - acc: 0.8559 - val_loss: 0.1418 - val_acc: 1.0000\n",
      "\n",
      "Epoch 00015: ReduceLROnPlateau reducing learning rate to 1.0000000474974514e-05.\n",
      "Epoch 16/100\n",
      "7474/7474 [==============================] - 0s 23us/step - loss: 0.3476 - acc: 0.8559 - val_loss: 0.1418 - val_acc: 1.0000\n",
      "Epoch 17/100\n",
      "7474/7474 [==============================] - 0s 20us/step - loss: 0.3478 - acc: 0.8559 - val_loss: 0.1418 - val_acc: 1.0000\n",
      "\n",
      "Epoch 00017: ReduceLROnPlateau reducing learning rate to 1.0000000656873453e-06.\n",
      "Epoch 18/100\n",
      "7474/7474 [==============================] - 0s 20us/step - loss: 0.3482 - acc: 0.8558 - val_loss: 0.1418 - val_acc: 1.0000\n",
      "Epoch 19/100\n",
      "7474/7474 [==============================] - 0s 22us/step - loss: 0.3444 - acc: 0.8560 - val_loss: 0.1418 - val_acc: 1.0000\n",
      "\n",
      "Epoch 00019: ReduceLROnPlateau reducing learning rate to 1.0000001111620805e-07.\n",
      "Epoch 20/100\n",
      "7474/7474 [==============================] - 0s 21us/step - loss: 0.3490 - acc: 0.8560 - val_loss: 0.1418 - val_acc: 1.0000\n",
      "Epoch 21/100\n",
      "7474/7474 [==============================] - 0s 21us/step - loss: 0.3481 - acc: 0.8559 - val_loss: 0.1418 - val_acc: 1.0000\n",
      "\n",
      "Epoch 00021: ReduceLROnPlateau reducing learning rate to 1.000000082740371e-08.\n",
      "Epoch 00021: early stopping\n"
     ]
    }
   ],
   "source": [
    "history = model.fit(np.transpose(nn_inputFeatures), np.transpose(channelFlags), epochs = n_epochs, batch_size = batch_size, verbose = 1,\n",
    "        validation_split = 0.3, \n",
    "        callbacks = [ \n",
    "        EarlyStopping(monitor='val_loss', patience=10, verbose=1),\n",
    "        ReduceLROnPlateau(monitor='val_loss', factor = 0.1, patience=2, verbose = 1), \n",
    "        TerminateOnNaN()])\n"
   ]
  },
  {
   "cell_type": "markdown",
   "metadata": {},
   "source": [
    "Plot of the training history"
   ]
  },
  {
   "cell_type": "code",
   "execution_count": 10,
   "metadata": {},
   "outputs": [
    {
     "data": {
      "image/png": "[encoded data removed]",
      "text/plain": [
       "<Figure size 432x288 with 1 Axes>"
      ]
     },
     "metadata": {
      "needs_background": "light"
     },
     "output_type": "display_data"
    }
   ],
   "source": [
    "\n",
    "plt.plot(history.history['loss'])\n",
    "plt.plot(history.history['val_loss'])\n",
    "plt.yscale('log')\n",
    "plt.title('model loss')\n",
    "plt.ylabel('loss')\n",
    "plt.xlabel('epoch')\n",
    "plt.legend(['train', 'test'], loc='upper left')\n",
    "plt.show()"
   ]
  },
  {
   "cell_type": "code",
   "execution_count": null,
   "metadata": {},
   "outputs": [],
   "source": []
  },
  {
   "cell_type": "code",
   "execution_count": null,
   "metadata": {},
   "outputs": [],
   "source": []
  }
 ],
 "metadata": {
  "kernelspec": {
   "display_name": "Python 3",
   "language": "python",
   "name": "python3"
  },
  "language_info": {
   "codemirror_mode": {
    "name": "ipython",
    "version": 3
   },
   "file_extension": ".py",
   "mimetype": "text/x-python",
   "name": "python",
   "nbconvert_exporter": "python",
   "pygments_lexer": "ipython3",
   "version": "3.7.6"
  }
 },
 "nbformat": 4,
 "nbformat_minor": 2
}
