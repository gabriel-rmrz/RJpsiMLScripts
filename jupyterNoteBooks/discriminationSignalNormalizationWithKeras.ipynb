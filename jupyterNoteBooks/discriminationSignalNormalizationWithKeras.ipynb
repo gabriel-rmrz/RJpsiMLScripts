{
 "cells": [
  {
   "cell_type": "markdown",
   "metadata": {},
   "source": [
    "Importing basic libraries"
   ]
  },
  {
   "cell_type": "code",
   "execution_count": 1,
   "metadata": {},
   "outputs": [],
   "source": [
    "import os\n",
    "import numpy as np\n",
    "from sklearn.model_selection import train_test_split\n",
    "from matplotlib import pyplot as plt"
   ]
  },
  {
   "cell_type": "markdown",
   "metadata": {},
   "source": [
    "Loading ML dedicated libraries"
   ]
  },
  {
   "cell_type": "code",
   "execution_count": 2,
   "metadata": {},
   "outputs": [
    {
     "name": "stderr",
     "output_type": "stream",
     "text": [
      "Using TensorFlow backend.\n"
     ]
    }
   ],
   "source": [
    "from keras.models import Model\n",
    "from keras.layers import Dense, Input, Dropout, Conv1D, BatchNormalization\n",
    "from keras.callbacks import EarlyStopping, ReduceLROnPlateau, TerminateOnNaN\n"
   ]
  },
  {
   "cell_type": "markdown",
   "metadata": {},
   "source": [
    "Loading the input file and defining the subsamples"
   ]
  },
  {
   "cell_type": "code",
   "execution_count": 4,
   "metadata": {},
   "outputs": [
    {
     "name": "stdout",
     "output_type": "stream",
     "text": [
      "(69, 1172172)\n",
      "[[ 3.76689768 14.06811905 45.62361526 ...  0.          0.\n",
      "   1.        ]\n",
      " [ 3.76689768 14.06811905 45.62361526 ...  0.          0.\n",
      "   1.        ]\n",
      " [ 3.76689768 14.06811905 45.62361526 ...  0.          0.\n",
      "   1.        ]\n",
      " ...\n",
      " [ 3.76689768 14.06811905 45.62361526 ...  0.          0.\n",
      "   1.        ]\n",
      " [ 3.76689768 14.06811905 45.62361526 ...  0.          0.\n",
      "   1.        ]\n",
      " [ 3.76689768 14.06811905 45.62361526 ...  0.          0.\n",
      "   1.        ]]\n"
     ]
    }
   ],
   "source": [
    "f = np.load(\"../data/featuresData.npz\")\n",
    "inputData = f[\"arr_0\"]\n"
   ]
  },
  {
   "cell_type": "code",
   "execution_count": 6,
   "metadata": {},
   "outputs": [
    {
     "name": "stdout",
     "output_type": "stream",
     "text": [
      "(69, 1172172)\n",
      "[ 5.26625104e-03  5.88007271e-01  1.90000000e+01  5.00000000e+00\n",
      "  2.47151614e-03 -5.59507357e-03  4.72383499e-02  1.00000000e+00\n",
      "  1.00000000e+00  1.00000000e+00  0.00000000e+00  1.00000000e+00\n",
      "  1.00000000e+00  1.00000000e+00  1.00000000e+00  1.00000000e+00\n",
      "  1.00000000e+00  1.00000000e+00  1.00000000e+00  1.00000000e+00\n",
      "  1.00000000e+00  1.00000000e+00  1.00000000e+00  1.00000000e+00\n",
      "  1.00000000e+00  0.00000000e+00  0.00000000e+00  0.00000000e+00\n",
      "  1.00000000e+00  0.00000000e+00  0.00000000e+00  3.56355524e+00\n",
      " -9.28851128e+00  3.27700882e+01 -1.00000000e+00  5.63164091e+00\n",
      "  5.22816086e+00 -2.09325457e+00  6.22608280e+00  5.20559931e+00\n",
      " -2.09834504e+00  6.20722818e+00  9.54077721e-01  9.54339802e-01\n",
      "  3.08297372e+00  2.22063942e+01  2.10223484e+01 -7.15435886e+00\n",
      "  2.64272652e+01  1.08159523e+01  9.64122963e+00 -4.90219402e+00\n",
      "  1.30792580e+01  1.00000000e+00  1.02188540e+00  1.16937923e+01\n",
      "  1.14667625e+01 -2.29306245e+00  1.34647465e+01 -1.00000000e+00\n",
      "  9.84513283e-01  3.78458476e+00  3.82860005e-01  4.35943335e-01\n",
      "  5.36076546e-01  1.52370691e+00  1.50000000e+01  6.00000000e+00\n",
      " -1.66327789e-01  5.15162712e-03  1.04603779e+00  1.60000000e+01\n",
      "  4.00000000e+00  9.17977914e-02 -5.93185611e-02  1.80715322e-03\n",
      "  1.00000000e+00  1.00000000e+00  1.00000000e+00  1.00000000e+00\n",
      "  1.00000000e+00  1.00000000e+00  1.00000000e+00  1.00000000e+00\n",
      "  1.00000000e+00  1.00000000e+00  1.00000000e+00  1.00000000e+00\n",
      "  0.00000000e+00  0.00000000e+00  0.00000000e+00  0.00000000e+00\n",
      "  0.00000000e+00  0.00000000e+00  0.00000000e+00  0.00000000e+00\n",
      "  0.00000000e+00  0.00000000e+00  0.00000000e+00]\n"
     ]
    }
   ],
   "source": [
    "print(inputData.shape)\n",
    "print(inputData[1,-100:-1])"
   ]
  },
  {
   "cell_type": "code",
   "execution_count": null,
   "metadata": {},
   "outputs": [],
   "source": [
    "inputData = inputData[:,np.logical_or(inputData[13,:],inputData[14,:])]\n",
    "nn_inputFeatures = inputData[0:10,:]\n",
    "triggerFlags = (inputData[10:13,:]).astype(int) == 1\n",
    "channelFlags = (inputData[13,]).astype(int) == 1"
   ]
  },
  {
   "cell_type": "code",
   "execution_count": 5,
   "metadata": {},
   "outputs": [
    {
     "name": "stdout",
     "output_type": "stream",
     "text": [
      "[[False  True False ... False False False]\n",
      " [False False False ... False False False]\n",
      " [False False False ... False False False]]\n",
      "2385\n"
     ]
    }
   ],
   "source": [
    "print(triggerFlags)\n",
    "print(np.sum(triggerFlags[1,triggerFlags[0,:]]))"
   ]
  },
  {
   "cell_type": "markdown",
   "metadata": {},
   "source": [
    "Importing NN libraries"
   ]
  },
  {
   "cell_type": "markdown",
   "metadata": {},
   "source": [
    "Definition of the model"
   ]
  },
  {
   "cell_type": "code",
   "execution_count": 6,
   "metadata": {},
   "outputs": [
    {
     "name": "stdout",
     "output_type": "stream",
     "text": [
      "WARNING:tensorflow:From /home/garamire/Software/anaconda3/envs/ztdl/lib/python3.7/site-packages/tensorflow/python/framework/op_def_library.py:263: colocate_with (from tensorflow.python.framework.ops) is deprecated and will be removed in a future version.\n",
      "Instructions for updating:\n",
      "Colocations handled automatically by placer.\n",
      "WARNING:tensorflow:From /home/garamire/Software/anaconda3/envs/ztdl/lib/python3.7/site-packages/keras/backend/tensorflow_backend.py:3733: calling dropout (from tensorflow.python.ops.nn_ops) with keep_prob is deprecated and will be removed in a future version.\n",
      "Instructions for updating:\n",
      "Please use `rate` instead of `keep_prob`. Rate should be set to `rate = 1 - keep_prob`.\n"
     ]
    }
   ],
   "source": [
    "batch_size = 500\n",
    "n_epochs = 100\n",
    "dropoutRate = 0.1\n",
    "\n",
    "inputLayer = Input(shape=(10,))\n",
    "x = BatchNormalization()(inputLayer)\n",
    "x = Dense(30, activation = 'relu')(x)\n",
    "x = Dropout(rate=dropoutRate)(x)\n",
    "x = Dense(30, activation = 'relu')(x)\n",
    "x = Dropout(rate=dropoutRate)(x)\n",
    "x = Dense(30, activation = 'relu')(x)\n",
    "x = Dropout(rate=dropoutRate)(x)\n",
    "x = Dense(10, activation = 'relu')(x)\n",
    "x = Dropout(rate=dropoutRate)(x)\n",
    "outputLayer = Dense(1, activation = 'sigmoid')(x)\n"
   ]
  },
  {
   "cell_type": "code",
   "execution_count": 7,
   "metadata": {},
   "outputs": [
    {
     "name": "stdout",
     "output_type": "stream",
     "text": [
      "Model: \"model_1\"\n",
      "_________________________________________________________________\n",
      "Layer (type)                 Output Shape              Param #   \n",
      "=================================================================\n",
      "input_1 (InputLayer)         (None, 10)                0         \n",
      "_________________________________________________________________\n",
      "batch_normalization_1 (Batch (None, 10)                40        \n",
      "_________________________________________________________________\n",
      "dense_1 (Dense)              (None, 30)                330       \n",
      "_________________________________________________________________\n",
      "dropout_1 (Dropout)          (None, 30)                0         \n",
      "_________________________________________________________________\n",
      "dense_2 (Dense)              (None, 30)                930       \n",
      "_________________________________________________________________\n",
      "dropout_2 (Dropout)          (None, 30)                0         \n",
      "_________________________________________________________________\n",
      "dense_3 (Dense)              (None, 30)                930       \n",
      "_________________________________________________________________\n",
      "dropout_3 (Dropout)          (None, 30)                0         \n",
      "_________________________________________________________________\n",
      "dense_4 (Dense)              (None, 10)                310       \n",
      "_________________________________________________________________\n",
      "dropout_4 (Dropout)          (None, 10)                0         \n",
      "_________________________________________________________________\n",
      "dense_5 (Dense)              (None, 1)                 11        \n",
      "=================================================================\n",
      "Total params: 2,551\n",
      "Trainable params: 2,531\n",
      "Non-trainable params: 20\n",
      "_________________________________________________________________\n"
     ]
    }
   ],
   "source": [
    "model = Model(inputs = inputLayer, outputs = outputLayer)\n",
    "model.compile(loss='binary_crossentropy', optimizer ='adam', metrics = ['accuracy'])\n",
    "model.summary()\n"
   ]
  },
  {
   "cell_type": "raw",
   "metadata": {},
   "source": [
    "Training the model"
   ]
  },
  {
   "cell_type": "code",
   "execution_count": 8,
   "metadata": {},
   "outputs": [
    {
     "name": "stdout",
     "output_type": "stream",
     "text": [
      "WARNING:tensorflow:From /home/garamire/Software/anaconda3/envs/ztdl/lib/python3.7/site-packages/tensorflow/python/ops/math_ops.py:3066: to_int32 (from tensorflow.python.ops.math_ops) is deprecated and will be removed in a future version.\n",
      "Instructions for updating:\n",
      "Use tf.cast instead.\n",
      "Train on 12672 samples, validate on 5431 samples\n",
      "Epoch 1/100\n",
      "12672/12672 [==============================] - 2s 153us/step - loss: 0.6195 - acc: 0.7388 - val_loss: 0.4022 - val_acc: 0.9998\n",
      "Epoch 2/100\n",
      "12672/12672 [==============================] - 0s 22us/step - loss: 0.4394 - acc: 0.8592 - val_loss: 0.1711 - val_acc: 0.9998\n",
      "Epoch 3/100\n",
      "12672/12672 [==============================] - 0s 18us/step - loss: 0.3627 - acc: 0.8631 - val_loss: 0.1474 - val_acc: 0.9998\n",
      "Epoch 4/100\n",
      "12672/12672 [==============================] - 0s 21us/step - loss: 0.3394 - acc: 0.8634 - val_loss: 0.1369 - val_acc: 0.9998\n",
      "Epoch 5/100\n",
      "12672/12672 [==============================] - 0s 23us/step - loss: 0.3292 - acc: 0.8636 - val_loss: 0.1363 - val_acc: 0.9998\n",
      "Epoch 6/100\n",
      "12672/12672 [==============================] - 0s 17us/step - loss: 0.3266 - acc: 0.8640 - val_loss: 0.1369 - val_acc: 0.9998\n",
      "Epoch 7/100\n",
      "12672/12672 [==============================] - 0s 16us/step - loss: 0.3226 - acc: 0.8672 - val_loss: 0.1454 - val_acc: 0.9843\n",
      "\n",
      "Epoch 00007: ReduceLROnPlateau reducing learning rate to 0.00010000000474974513.\n",
      "Epoch 8/100\n",
      "12672/12672 [==============================] - 0s 16us/step - loss: 0.3208 - acc: 0.8699 - val_loss: 0.1432 - val_acc: 0.9836\n",
      "Epoch 9/100\n",
      "12672/12672 [==============================] - 0s 17us/step - loss: 0.3232 - acc: 0.8696 - val_loss: 0.1404 - val_acc: 0.9842\n",
      "\n",
      "Epoch 00009: ReduceLROnPlateau reducing learning rate to 1.0000000474974514e-05.\n",
      "Epoch 10/100\n",
      "12672/12672 [==============================] - 0s 18us/step - loss: 0.3209 - acc: 0.8677 - val_loss: 0.1401 - val_acc: 0.9840\n",
      "Epoch 11/100\n",
      "12672/12672 [==============================] - 0s 29us/step - loss: 0.3169 - acc: 0.8697 - val_loss: 0.1398 - val_acc: 0.9840\n",
      "\n",
      "Epoch 00011: ReduceLROnPlateau reducing learning rate to 1.0000000656873453e-06.\n",
      "Epoch 12/100\n",
      "12672/12672 [==============================] - 0s 26us/step - loss: 0.3166 - acc: 0.8691 - val_loss: 0.1400 - val_acc: 0.9840\n",
      "Epoch 13/100\n",
      "12672/12672 [==============================] - 0s 19us/step - loss: 0.3207 - acc: 0.8667 - val_loss: 0.1398 - val_acc: 0.9840\n",
      "\n",
      "Epoch 00013: ReduceLROnPlateau reducing learning rate to 1.0000001111620805e-07.\n",
      "Epoch 14/100\n",
      "12672/12672 [==============================] - 0s 17us/step - loss: 0.3198 - acc: 0.8691 - val_loss: 0.1399 - val_acc: 0.9840\n",
      "Epoch 15/100\n",
      "12672/12672 [==============================] - 0s 26us/step - loss: 0.3215 - acc: 0.8697 - val_loss: 0.1399 - val_acc: 0.9840\n",
      "\n",
      "Epoch 00015: ReduceLROnPlateau reducing learning rate to 1.000000082740371e-08.\n",
      "Epoch 00015: early stopping\n"
     ]
    }
   ],
   "source": [
    "history = model.fit(np.transpose(nn_inputFeatures), np.transpose(channelFlags), epochs = n_epochs, batch_size = batch_size, verbose = 1,\n",
    "        validation_split = 0.3, \n",
    "        callbacks = [ \n",
    "        EarlyStopping(monitor='val_loss', patience=10, verbose=1),\n",
    "        ReduceLROnPlateau(monitor='val_loss', factor = 0.1, patience=2, verbose = 1), \n",
    "        TerminateOnNaN()])\n"
   ]
  },
  {
   "cell_type": "markdown",
   "metadata": {},
   "source": [
    "Plot of the training history"
   ]
  },
  {
   "cell_type": "code",
   "execution_count": 9,
   "metadata": {},
   "outputs": [
    {
     "data": {
      "image/png": "[encoded data removed]",
      "text/plain": [
       "<Figure size 432x288 with 1 Axes>"
      ]
     },
     "metadata": {
      "needs_background": "light"
     },
     "output_type": "display_data"
    }
   ],
   "source": [
    "\n",
    "plt.plot(history.history['loss'])\n",
    "plt.plot(history.history['val_loss'])\n",
    "plt.yscale('log')\n",
    "plt.title('model loss')\n",
    "plt.ylabel('loss')\n",
    "plt.xlabel('epoch')\n",
    "plt.legend(['train', 'test'], loc='upper left')\n",
    "plt.show()"
   ]
  },
  {
   "cell_type": "code",
   "execution_count": null,
   "metadata": {},
   "outputs": [],
   "source": []
  },
  {
   "cell_type": "code",
   "execution_count": null,
   "metadata": {},
   "outputs": [],
   "source": []
  }
 ],
 "metadata": {
  "kernelspec": {
   "display_name": "Python 3",
   "language": "python",
   "name": "python3"
  },
  "language_info": {
   "codemirror_mode": {
    "name": "ipython",
    "version": 3
   },
   "file_extension": ".py",
   "mimetype": "text/x-python",
   "name": "python",
   "nbconvert_exporter": "python",
   "pygments_lexer": "ipython3",
   "version": "3.7.6"
  }
 },
 "nbformat": 4,
 "nbformat_minor": 2
}
